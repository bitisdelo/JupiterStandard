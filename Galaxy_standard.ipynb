{
    "metadata": {
        "kernelspec": {
            "name": "SQL",
            "display_name": "SQL",
            "language": "sql"
        },
        "language_info": {
            "name": "sql",
            "version": ""
        }
    },
    "nbformat_minor": 2,
    "nbformat": 4,
    "cells": [
        {
            "cell_type": "markdown",
            "source": [
                "Testiram"
            ],
            "metadata": {
                "azdata_cell_guid": "409b0ae9-404f-427d-983e-ed9741d81438"
            },
            "attachments": {}
        },
        {
            "cell_type": "code",
            "source": [
                "SELECT *\r\n",
                "FROM Delavec\r\n",
                "WHERE Ime = 'leon'"
            ],
            "metadata": {
                "azdata_cell_guid": "ce7eab6f-9c04-4aa4-ae5a-25ff5c4050c3",
                "language": "sql"
            },
            "outputs": [],
            "execution_count": null
        }
    ]
}